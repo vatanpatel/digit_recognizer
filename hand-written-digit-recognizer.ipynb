{
 "cells": [
  {
   "cell_type": "code",
   "execution_count": 1,
   "metadata": {
    "_cell_guid": "b1076dfc-b9ad-4769-8c92-a6c4dae69d19",
    "_uuid": "8f2839f25d086af736a60e9eeb907d3b93b6e0e5"
   },
   "outputs": [],
   "source": [
    "## We import all the necessary libraries\n",
    "\n",
    "import pandas as pd\n",
    "import numpy as np\n",
    "import matplotlib.pyplot as plt\n",
    "import seaborn as sns\n",
    "%matplotlib inline\n",
    "sns.set_style('whitegrid')\n",
    "from tensorflow.keras.models import Sequential\n",
    "from tensorflow.keras.layers import Dense\n",
    "from tensorflow.keras.layers import Dropout"
   ]
  },
  {
   "cell_type": "code",
   "execution_count": 2,
   "metadata": {
    "_cell_guid": "79c7e3d0-c299-4dcb-8224-4455121ee9b0",
    "_uuid": "d629ff2d2480ee46fbb7e2d37f6b5fab8052498a"
   },
   "outputs": [],
   "source": [
    "## We load our train and test data\n",
    "\n",
    "train = pd.read_csv('train.csv')\n",
    "test = pd.read_csv('test.csv')"
   ]
  },
  {
   "cell_type": "code",
   "execution_count": 3,
   "metadata": {},
   "outputs": [],
   "source": [
    "## We define our x_train and y_train\n",
    "\n",
    "x_train = train.drop('label', axis = 1)/255\n",
    "y_train = train['label']"
   ]
  },
  {
   "cell_type": "code",
   "execution_count": 4,
   "metadata": {},
   "outputs": [],
   "source": [
    "## We get dummies of the digits 0-9\n",
    "\n",
    "y = pd.get_dummies(y_train)"
   ]
  },
  {
   "cell_type": "code",
   "execution_count": 6,
   "metadata": {},
   "outputs": [],
   "source": [
    "## tf keras requires array inputs\n",
    "\n",
    "x = x_train.values\n",
    "y = y.values"
   ]
  },
  {
   "cell_type": "code",
   "execution_count": 7,
   "metadata": {},
   "outputs": [],
   "source": [
    "## We split our data into train and validation (test) data\n",
    "\n",
    "from sklearn.model_selection import train_test_split\n",
    "x_train, x_test, y_train, y_test = train_test_split(x, y, test_size=0.3, random_state = 420)"
   ]
  },
  {
   "cell_type": "code",
   "execution_count": 8,
   "metadata": {},
   "outputs": [],
   "source": [
    "## We define our nnet with input layer of 784 features (28 X 28 features). \n",
    "## We then add 5 layers with 512, 256, 128, 64, 32 neurons\n",
    "## The final layer will output 10 digits\n",
    "## We add dropouts. We use adam optimizer. \n",
    "## Since we have multiple categories, we take loss as categorical_crossentropy\n",
    "## We try to maximize the accuracy metric\n",
    "\n",
    "model = Sequential()\n",
    "model.add(Dense(784 ,activation = 'relu'))\n",
    "model.add(Dropout(0.5))\n",
    "model.add(Dense(512 ,activation = 'relu'))\n",
    "model.add(Dropout(0.4))\n",
    "model.add(Dense(256 ,activation = 'relu'))\n",
    "model.add(Dropout(0.4))\n",
    "model.add(Dense(128 ,activation = 'relu'))\n",
    "model.add(Dropout(0.3))\n",
    "model.add(Dense(64 ,activation = 'relu'))\n",
    "model.add(Dropout(0.3))\n",
    "model.add(Dense(32 ,activation = 'relu'))\n",
    "model.add(Dropout(0.2))\n",
    "model.add(Dense(16 ,activation = 'relu'))\n",
    "model.add(Dropout(0.2))\n",
    "model.add(Dense(10, activation = 'softmax'))\n",
    "model.compile(optimizer = 'adam', loss = 'categorical_crossentropy', metrics = ['accuracy'])"
   ]
  },
  {
   "cell_type": "code",
   "execution_count": 10,
   "metadata": {},
   "outputs": [
    {
     "name": "stdout",
     "output_type": "stream",
     "text": [
      "Train on 29400 samples, validate on 12600 samples\n",
      "Epoch 1/100\n",
      "29400/29400 [==============================] - 53s 2ms/sample - loss: 1.3061 - accuracy: 0.5311 - val_loss: 0.4158 - val_accuracy: 0.9009\n",
      "Epoch 2/100\n",
      "29400/29400 [==============================] - 49s 2ms/sample - loss: 0.5764 - accuracy: 0.8512 - val_loss: 0.2693 - val_accuracy: 0.9390\n",
      "Epoch 3/100\n",
      "29400/29400 [==============================] - 53s 2ms/sample - loss: 0.4273 - accuracy: 0.8979 - val_loss: 0.2211 - val_accuracy: 0.9487\n",
      "Epoch 4/100\n",
      "29400/29400 [==============================] - 52s 2ms/sample - loss: 0.3518 - accuracy: 0.9200 - val_loss: 0.2178 - val_accuracy: 0.9517\n",
      "Epoch 5/100\n",
      "29400/29400 [==============================] - 52s 2ms/sample - loss: 0.3222 - accuracy: 0.9293 - val_loss: 0.1756 - val_accuracy: 0.9603\n",
      "Epoch 6/100\n",
      "29400/29400 [==============================] - 51s 2ms/sample - loss: 0.2925 - accuracy: 0.9362 - val_loss: 0.1616 - val_accuracy: 0.9618\n",
      "Epoch 7/100\n",
      "29400/29400 [==============================] - 51s 2ms/sample - loss: 0.2648 - accuracy: 0.9405 - val_loss: 0.1601 - val_accuracy: 0.9648\n",
      "Epoch 8/100\n",
      "29400/29400 [==============================] - 47s 2ms/sample - loss: 0.2532 - accuracy: 0.9457 - val_loss: 0.1647 - val_accuracy: 0.9663\n",
      "Epoch 9/100\n",
      "29400/29400 [==============================] - 50s 2ms/sample - loss: 0.2340 - accuracy: 0.9493 - val_loss: 0.1522 - val_accuracy: 0.9671\n",
      "Epoch 10/100\n",
      "29400/29400 [==============================] - 47s 2ms/sample - loss: 0.2209 - accuracy: 0.9505 - val_loss: 0.1628 - val_accuracy: 0.9649\n",
      "Epoch 11/100\n",
      "29400/29400 [==============================] - 47s 2ms/sample - loss: 0.2099 - accuracy: 0.9531 - val_loss: 0.1778 - val_accuracy: 0.9668\n",
      "Epoch 12/100\n",
      "29400/29400 [==============================] - 49s 2ms/sample - loss: 0.1982 - accuracy: 0.9555 - val_loss: 0.1492 - val_accuracy: 0.9692\n",
      "Epoch 13/100\n",
      "29400/29400 [==============================] - 43s 1ms/sample - loss: 0.1918 - accuracy: 0.9578 - val_loss: 0.1486 - val_accuracy: 0.9717\n",
      "Epoch 14/100\n",
      "29400/29400 [==============================] - 44s 1ms/sample - loss: 0.1811 - accuracy: 0.9602 - val_loss: 0.1574 - val_accuracy: 0.9687\n",
      "Epoch 15/100\n",
      "29400/29400 [==============================] - 44s 2ms/sample - loss: 0.1755 - accuracy: 0.9621 - val_loss: 0.1414 - val_accuracy: 0.9733\n",
      "Epoch 16/100\n",
      "29400/29400 [==============================] - 50s 2ms/sample - loss: 0.1633 - accuracy: 0.9627 - val_loss: 0.1542 - val_accuracy: 0.9727\n",
      "Epoch 17/100\n",
      "29400/29400 [==============================] - 47s 2ms/sample - loss: 0.1633 - accuracy: 0.9628 - val_loss: 0.1418 - val_accuracy: 0.9744\n",
      "Epoch 18/100\n",
      "29400/29400 [==============================] - 46s 2ms/sample - loss: 0.1547 - accuracy: 0.9655 - val_loss: 0.1706 - val_accuracy: 0.9728\n",
      "Epoch 19/100\n",
      "29400/29400 [==============================] - 46s 2ms/sample - loss: 0.1547 - accuracy: 0.9655 - val_loss: 0.1476 - val_accuracy: 0.9733\n",
      "Epoch 20/100\n",
      "29400/29400 [==============================] - 49s 2ms/sample - loss: 0.1482 - accuracy: 0.9668 - val_loss: 0.1473 - val_accuracy: 0.9765\n",
      "Epoch 21/100\n",
      "29400/29400 [==============================] - 54s 2ms/sample - loss: 0.1439 - accuracy: 0.9679 - val_loss: 0.1435 - val_accuracy: 0.9742\n",
      "Epoch 22/100\n",
      "29400/29400 [==============================] - 53s 2ms/sample - loss: 0.1451 - accuracy: 0.9676 - val_loss: 0.1695 - val_accuracy: 0.9750\n",
      "Epoch 23/100\n",
      "29400/29400 [==============================] - 50s 2ms/sample - loss: 0.1484 - accuracy: 0.9673 - val_loss: 0.1372 - val_accuracy: 0.9774\n",
      "Epoch 24/100\n",
      "29400/29400 [==============================] - 66s 2ms/sample - loss: 0.1331 - accuracy: 0.9712 - val_loss: 0.1573 - val_accuracy: 0.9774\n",
      "Epoch 25/100\n",
      "29400/29400 [==============================] - 53s 2ms/sample - loss: 0.1273 - accuracy: 0.9729 - val_loss: 0.1633 - val_accuracy: 0.9756\n",
      "Epoch 26/100\n",
      "29400/29400 [==============================] - 49s 2ms/sample - loss: 0.1275 - accuracy: 0.9711 - val_loss: 0.1555 - val_accuracy: 0.9752\n",
      "Epoch 27/100\n",
      "29400/29400 [==============================] - 49s 2ms/sample - loss: 0.1184 - accuracy: 0.9733 - val_loss: 0.1457 - val_accuracy: 0.9767\n",
      "Epoch 28/100\n",
      "29400/29400 [==============================] - 62s 2ms/sample - loss: 0.1204 - accuracy: 0.9736 - val_loss: 0.1511 - val_accuracy: 0.9770\n",
      "Epoch 29/100\n",
      "29400/29400 [==============================] - 84s 3ms/sample - loss: 0.1218 - accuracy: 0.9739 - val_loss: 0.1356 - val_accuracy: 0.9772\n",
      "Epoch 30/100\n",
      "29400/29400 [==============================] - 83s 3ms/sample - loss: 0.1221 - accuracy: 0.9733 - val_loss: 0.1490 - val_accuracy: 0.9770\n",
      "Epoch 31/100\n",
      "29400/29400 [==============================] - 79s 3ms/sample - loss: 0.1186 - accuracy: 0.9749 - val_loss: 0.1482 - val_accuracy: 0.9778\n",
      "Epoch 32/100\n",
      "29400/29400 [==============================] - 85s 3ms/sample - loss: 0.1221 - accuracy: 0.9727 - val_loss: 0.1430 - val_accuracy: 0.9780\n",
      "Epoch 33/100\n",
      "29400/29400 [==============================] - 67s 2ms/sample - loss: 0.1186 - accuracy: 0.9748 - val_loss: 0.1454 - val_accuracy: 0.9783\n",
      "Epoch 34/100\n",
      "29400/29400 [==============================] - 75s 3ms/sample - loss: 0.1117 - accuracy: 0.9748 - val_loss: 0.1539 - val_accuracy: 0.9776\n",
      "Epoch 35/100\n",
      "29400/29400 [==============================] - 75s 3ms/sample - loss: 0.1184 - accuracy: 0.9740 - val_loss: 0.1572 - val_accuracy: 0.9775\n",
      "Epoch 36/100\n",
      "29400/29400 [==============================] - 91s 3ms/sample - loss: 0.1098 - accuracy: 0.9753 - val_loss: 0.1785 - val_accuracy: 0.9775\n",
      "Epoch 37/100\n",
      "29400/29400 [==============================] - 100s 3ms/sample - loss: 0.1131 - accuracy: 0.9763 - val_loss: 0.1508 - val_accuracy: 0.9783\n",
      "Epoch 38/100\n",
      "29400/29400 [==============================] - 124s 4ms/sample - loss: 0.1026 - accuracy: 0.9763 - val_loss: 0.1892 - val_accuracy: 0.9781\n",
      "Epoch 39/100\n",
      "29400/29400 [==============================] - 73s 2ms/sample - loss: 0.1058 - accuracy: 0.9771 - val_loss: 0.1627 - val_accuracy: 0.9771\n",
      "Epoch 00039: early stopping\n"
     ]
    },
    {
     "data": {
      "text/plain": [
       "<tensorflow.python.keras.callbacks.History at 0x7fb03d2e3790>"
      ]
     },
     "execution_count": 10,
     "metadata": {},
     "output_type": "execute_result"
    }
   ],
   "source": [
    "## We now define an early stopping to avoid overfitting. \n",
    "## If validation accuracy doesnt improve, we wait for 10 epochs before stopping.\n",
    "## We start our model training\n",
    "\n",
    "from tensorflow.keras.callbacks import EarlyStopping\n",
    "early_stop = EarlyStopping(monitor='val_loss', mode='min', verbose=1, patience=10)\n",
    "model.fit(x=x_train, \n",
    "          y=y_train, \n",
    "          epochs=100, batch_size = 32,\n",
    "          validation_data=(x_test, y_test), verbose=1,\n",
    "          callbacks=[early_stop]\n",
    "          )"
   ]
  },
  {
   "cell_type": "code",
   "execution_count": 11,
   "metadata": {},
   "outputs": [
    {
     "data": {
      "text/plain": [
       "<matplotlib.axes._subplots.AxesSubplot at 0x7fb0524b8cd0>"
      ]
     },
     "execution_count": 11,
     "metadata": {},
     "output_type": "execute_result"
    },
    {
     "data": {
      "image/png": "[encoded data removed]",
      "text/plain": [
       "<Figure size 432x288 with 1 Axes>"
      ]
     },
     "metadata": {},
     "output_type": "display_data"
    }
   ],
   "source": [
    "## We plot our model to see that the train and validation accuracy are almost equal and imporving together. \n",
    "## This is what we desire.\n",
    "\n",
    "pd.DataFrame(model.history.history)[['loss','val_loss']].plot()"
   ]
  },
  {
   "cell_type": "code",
   "execution_count": null,
   "metadata": {},
   "outputs": [],
   "source": [
    "## Let us test our model with predictions on our test data. \n",
    "\n",
    "# pred = model.predict_classes(test.values/255)"
   ]
  },
  {
   "cell_type": "code",
   "execution_count": null,
   "metadata": {},
   "outputs": [],
   "source": [
    "## We save our submissions for kaggle\n",
    "\n",
    "## solution = pd.DataFrame({\"ImageId\":np.arange(28001)[1:], \"Label\":pred})"
   ]
  },
  {
   "cell_type": "code",
   "execution_count": null,
   "metadata": {},
   "outputs": [],
   "source": [
    "## solution.to_csv(\"submission2.csv\", index = False)"
   ]
  },
  {
   "cell_type": "code",
   "execution_count": null,
   "metadata": {},
   "outputs": [],
   "source": []
  }
 ],
 "metadata": {
  "kernelspec": {
   "display_name": "Python 3",
   "language": "python",
   "name": "python3"
  },
  "language_info": {
   "codemirror_mode": {
    "name": "ipython",
    "version": 3
   },
   "file_extension": ".py",
   "mimetype": "text/x-python",
   "name": "python",
   "nbconvert_exporter": "python",
   "pygments_lexer": "ipython3",
   "version": "3.7.6"
  }
 },
 "nbformat": 4,
 "nbformat_minor": 4
}
